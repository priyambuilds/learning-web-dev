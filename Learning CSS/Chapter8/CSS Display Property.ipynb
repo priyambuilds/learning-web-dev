{
 "cells": [
  {
   "cell_type": "markdown",
   "id": "2887ad47",
   "metadata": {},
   "source": [
    "# [CSS Display](https://developer.mozilla.org/en-US/docs/Web/css/display)\n",
    "This property specifies and determines how an element would be displayed on the website. By tweaking the value of the display we can show the content “inline”, “grid”, “flex”, and whatnot.\n",
    "\n",
    "Let’s look at a few properties.\n",
    "\n",
    "**Display Inline**\n",
    "It only takes the space required for content, leaving the rest space for other elements to come. Setting other dimension properties isn’t like width, height, margin or padding is not allowed in Inline Display."
   ]
  },
  {
   "cell_type": "markdown",
   "id": "2dc1b2f1",
   "metadata": {},
   "source": [
    "```css\n",
    "Syntax: \n",
    "{display: inline;}\n",
    "```"
   ]
  },
  {
   "cell_type": "markdown",
   "id": "f2db0e02",
   "metadata": {},
   "source": [
    "**Display Block**\n",
    "It takes the full width available across the website page leaving a new line before and after the element.\n",
    "\n",
    "```css\n",
    "Syntax: \n",
    "{display: block;}\n",
    "```"
   ]
  },
  {
   "cell_type": "markdown",
   "id": "6f746d20",
   "metadata": {},
   "source": [
    "**Display Inline Block**\n",
    "This property is quite similar to inline but dimension properties are allowed in the case of the inline-block display.\n",
    "\n",
    "**Display None & Hidden**\n",
    "This property removes the element from the document, clearing the space taken by the element. When the display is hidden, though the element isn’t visible the space is still taken by the element.\n",
    "\n",
    "Here’s an example for the Display property.\n",
    "\n",
    "![image.png](https://cwh-full-next-space.fra1.digitaloceanspaces.com/tutorial/css-display/css%20display.webp)\n",
    "Output:\n",
    "![image.png](https://cwh-full-next-space.fra1.digitaloceanspaces.com/tutorial/css-display/css%20display%20output.webp)\n",
    "\n"
   ]
  }
 ],
 "metadata": {
  "language_info": {
   "name": "python"
  }
 },
 "nbformat": 4,
 "nbformat_minor": 5
}
