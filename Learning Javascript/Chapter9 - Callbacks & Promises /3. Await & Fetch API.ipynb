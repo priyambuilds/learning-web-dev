{
 "cells": [
  {
   "cell_type": "markdown",
   "id": "e9cc3b5a",
   "metadata": {},
   "source": [
    "Certainly! Here’s a detailed and practical explanation of **Async/Await** and the **Fetch API** in JavaScript.\n",
    "\n",
    "---\n",
    "\n",
    "## 1. What is Async/Await?\n",
    "\n",
    "**Async/Await** is modern JavaScript syntax for writing asynchronous code that looks and behaves like synchronous code. It is built on top of Promises and makes asynchronous code easier to read, write, and debug.\n",
    "\n",
    "- `async` is a keyword you put before a function to make it return a Promise.\n",
    "- `await` is used inside an `async` function to pause execution until a Promise settles (fulfilled or rejected).\n",
    "\n",
    "### Why Use Async/Await?\n",
    "\n",
    "- **Readability:** Code looks like regular synchronous code.\n",
    "- **Error Handling:** Use `try...catch` blocks for errors, just like synchronous code.\n",
    "- **Chaining:** Avoids callback hell and complex `.then()` chains.\n",
    "\n",
    "---\n",
    "\n",
    "## 2. The Fetch API\n",
    "\n",
    "The **Fetch API** is a modern way to make HTTP requests (like GET, POST) in JavaScript. It returns a Promise that resolves to the response of the request.\n",
    "\n",
    "### Basic Fetch Example\n",
    "\n"
   ]
  },
  {
   "cell_type": "code",
   "execution_count": null,
   "id": "6a255509",
   "metadata": {
    "vscode": {
     "languageId": "javascript"
    }
   },
   "outputs": [],
   "source": [
    "fetch('https://jsonplaceholder.typicode.com/posts/1')\n",
    "    .then(response => response.json())\n",
    "    .then(data => console.log(data))\n",
    "    .catch(error => console.error('Error:', error));"
   ]
  },
  {
   "cell_type": "markdown",
   "id": "2fd9e907",
   "metadata": {},
   "source": [
    "\n",
    "\n",
    "---\n",
    "\n",
    "## 3. Using Fetch with Async/Await\n",
    "\n",
    "You can combine `fetch` with `async/await` for cleaner code.\n",
    "\n"
   ]
  },
  {
   "cell_type": "code",
   "execution_count": null,
   "id": "cfa38c18",
   "metadata": {
    "vscode": {
     "languageId": "javascript"
    }
   },
   "outputs": [],
   "source": [
    "async function fetchPost() {\n",
    "    try {\n",
    "        const response = await fetch('https://jsonplaceholder.typicode.com/posts/1');\n",
    "        if (!response.ok) {\n",
    "            throw new Error('Network response was not ok');\n",
    "        }\n",
    "        const data = await response.json();\n",
    "        console.log(data);\n",
    "    } catch (error) {\n",
    "        console.error('Fetch error:', error);\n",
    "    }\n",
    "}\n",
    "\n",
    "fetchPost();"
   ]
  },
  {
   "cell_type": "markdown",
   "id": "518122f5",
   "metadata": {},
   "source": [
    "\n",
    "\n",
    "### How it works:\n",
    "- The function `fetchPost` is marked `async`, so it returns a Promise.\n",
    "- `await fetch(...)` pauses until the HTTP request completes.\n",
    "- If the response is not OK, it throws an error.\n",
    "- `await response.json()` waits for the JSON body to be parsed.\n",
    "- Errors are caught in the `catch` block.\n",
    "\n",
    "---\n",
    "\n",
    "## 4. Practical Example: Fetching Multiple Resources\n",
    "\n",
    "You can use `Promise.all` with `async/await` to fetch multiple resources in parallel.\n",
    "\n"
   ]
  },
  {
   "cell_type": "code",
   "execution_count": null,
   "id": "3e32e42f",
   "metadata": {
    "vscode": {
     "languageId": "javascript"
    }
   },
   "outputs": [],
   "source": [
    "async function fetchMultiplePosts() {\n",
    "    try {\n",
    "        const urls = [\n",
    "            'https://jsonplaceholder.typicode.com/posts/1',\n",
    "            'https://jsonplaceholder.typicode.com/posts/2'\n",
    "        ];\n",
    "        const responses = await Promise.all(urls.map(url => fetch(url)));\n",
    "        const data = await Promise.all(responses.map(res => res.json()));\n",
    "        console.log(data); // Array of post objects\n",
    "    } catch (error) {\n",
    "        console.error('Error fetching posts:', error);\n",
    "    }\n",
    "}\n",
    "\n",
    "fetchMultiplePosts();"
   ]
  },
  {
   "cell_type": "markdown",
   "id": "0bf9efb2",
   "metadata": {},
   "source": [
    "\n",
    "\n",
    "---\n",
    "\n",
    "## 5. Posting Data with Fetch and Async/Await\n",
    "\n",
    "You can also send data (POST) using fetch.\n",
    "\n"
   ]
  },
  {
   "cell_type": "code",
   "execution_count": null,
   "id": "829465a9",
   "metadata": {
    "vscode": {
     "languageId": "javascript"
    }
   },
   "outputs": [],
   "source": [
    "async function createPost() {\n",
    "    try {\n",
    "        const response = await fetch('https://jsonplaceholder.typicode.com/posts', {\n",
    "            method: 'POST',\n",
    "            headers: {\n",
    "                'Content-Type': 'application/json'\n",
    "            },\n",
    "            body: JSON.stringify({\n",
    "                title: 'foo',\n",
    "                body: 'bar',\n",
    "                userId: 1\n",
    "            })\n",
    "        });\n",
    "        const data = await response.json();\n",
    "        console.log('Created:', data);\n",
    "    } catch (error) {\n",
    "        console.error('Error creating post:', error);\n",
    "    }\n",
    "}\n",
    "\n",
    "createPost();"
   ]
  },
  {
   "cell_type": "markdown",
   "id": "861ac44d",
   "metadata": {},
   "source": [
    "\n",
    "\n",
    "---\n",
    "\n",
    "## 6. Error Handling\n",
    "\n",
    "With `async/await`, you use `try...catch` for error handling, making it similar to synchronous code.\n",
    "\n"
   ]
  },
  {
   "cell_type": "code",
   "execution_count": null,
   "id": "b22d383a",
   "metadata": {
    "vscode": {
     "languageId": "javascript"
    }
   },
   "outputs": [],
   "source": [
    "async function fetchWithError() {\n",
    "    try {\n",
    "        const response = await fetch('https://invalid.url');\n",
    "        const data = await response.json();\n",
    "        console.log(data);\n",
    "    } catch (error) {\n",
    "        console.error('Caught error:', error);\n",
    "    }\n",
    "}\n",
    "\n",
    "fetchWithError();"
   ]
  },
  {
   "cell_type": "markdown",
   "id": "4b88e887",
   "metadata": {},
   "source": [
    "\n",
    "\n",
    "---\n",
    "\n",
    "## 7. Summary Table\n",
    "\n",
    "| Concept         | Description                                                                 |\n",
    "|-----------------|-----------------------------------------------------------------------------|\n",
    "| `async`         | Declares a function that returns a Promise                                  |\n",
    "| `await`         | Pauses execution until a Promise settles                                    |\n",
    "| Fetch API       | Modern way to make HTTP requests, returns a Promise                         |\n",
    "| Error Handling  | Use `try...catch` inside async functions                                    |\n",
    "\n",
    "---\n",
    "\n",
    "## 8. Key Points\n",
    "\n",
    "- **Async/Await** makes asynchronous code look synchronous.\n",
    "- **Fetch API** is the modern way to make HTTP requests in browsers.\n",
    "- Use `await` to pause for Promises, and `try...catch` for errors.\n",
    "- You can fetch, post, and handle multiple requests easily.\n",
    "\n",
    "---\n",
    "\n",
    "**In summary:**  \n",
    "Async/await and the Fetch API together make it easy to write clean, readable, and robust asynchronous code for web requests in JavaScript.\n",
    "\n",
    "If you want more advanced examples or have specific use cases, let me know!\n",
    "\n",
    "Similar code found with 1 license type"
   ]
  }
 ],
 "metadata": {
  "language_info": {
   "name": "python"
  }
 },
 "nbformat": 4,
 "nbformat_minor": 5
}
