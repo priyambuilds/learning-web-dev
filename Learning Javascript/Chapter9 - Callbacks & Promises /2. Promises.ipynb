{
 "cells": [
  {
   "cell_type": "markdown",
   "id": "e8988fb1",
   "metadata": {},
   "source": [
    "Certainly! Here’s a comprehensive explanation of **Promises** in JavaScript, including theory and practical code examples.\n",
    "\n",
    "---\n",
    "\n",
    "## What is a Promise?\n",
    "\n",
    "A **Promise** is a built-in JavaScript object that represents the eventual completion (or failure) of an asynchronous operation and its resulting value. Promises help you write cleaner, more manageable asynchronous code, avoiding \"callback hell\".\n",
    "\n",
    "### States of a Promise\n",
    "\n",
    "A Promise has three states:\n",
    "1. **Pending**: Initial state, neither fulfilled nor rejected.\n",
    "2. **Fulfilled**: The operation completed successfully.\n",
    "3. **Rejected**: The operation failed.\n",
    "\n",
    "Once a promise is fulfilled or rejected, it becomes **settled** and cannot change state.\n",
    "\n",
    "---\n",
    "\n",
    "## Creating a Promise\n",
    "\n",
    "You create a promise using the `Promise` constructor, which takes a function with two arguments: `resolve` and `reject`.\n",
    "\n"
   ]
  },
  {
   "cell_type": "code",
   "execution_count": 1,
   "id": "b62cdc07",
   "metadata": {
    "vscode": {
     "languageId": "polyglot-notebook"
    }
   },
   "outputs": [
    {
     "ename": "Error",
     "evalue": "(2,17): error CS1001: Identifier expected\n(5,23): error CS1001: Identifier expected",
     "output_type": "error",
     "traceback": [
      "(2,17): error CS1001: Identifier expected\n",
      "(5,23): error CS1001: Identifier expected"
     ]
    }
   ],
   "source": [
    "// Example 1: Basic Promise\n",
    "const myPromise = new Promise((resolve, reject) => {\n",
    "    // Simulate async operation\n",
    "    setTimeout(() => {\n",
    "        const success = true;\n",
    "        if (success) {\n",
    "            resolve(\"Operation was successful!\");\n",
    "        } else {\n",
    "            reject(\"Operation failed!\");\n",
    "        }\n",
    "    }, 1000);\n",
    "});"
   ]
  },
  {
   "cell_type": "markdown",
   "id": "53d73508",
   "metadata": {},
   "source": [
    "\n",
    "\n",
    "---\n",
    "\n",
    "## Consuming a Promise\n",
    "\n",
    "You use `.then()` to handle fulfillment and `.catch()` to handle rejection.\n",
    "\n"
   ]
  },
  {
   "cell_type": "code",
   "execution_count": null,
   "id": "d44d2d17",
   "metadata": {
    "vscode": {
     "languageId": "javascript"
    }
   },
   "outputs": [],
   "source": [
    "// Example 2: Consuming a Promise\n",
    "myPromise\n",
    "    .then(result => {\n",
    "        console.log(result); // \"Operation was successful!\"\n",
    "    })\n",
    "    .catch(error => {\n",
    "        console.error(error); // \"Operation failed!\"\n",
    "    });"
   ]
  },
  {
   "cell_type": "markdown",
   "id": "c7497b7a",
   "metadata": {},
   "source": [
    "\n",
    "\n",
    "---\n",
    "\n",
    "## Practical Example: Fetching Data\n",
    "\n",
    "Suppose you want to fetch data from an API. The `fetch` API returns a promise.\n",
    "\n"
   ]
  },
  {
   "cell_type": "code",
   "execution_count": null,
   "id": "ce8599f5",
   "metadata": {
    "vscode": {
     "languageId": "javascript"
    }
   },
   "outputs": [],
   "source": [
    "// Example 3: Fetch API with Promises\n",
    "fetch('https://jsonplaceholder.typicode.com/posts/1')\n",
    "    .then(response => response.json()) // returns another promise\n",
    "    .then(data => {\n",
    "        console.log(data); // { userId: 1, id: 1, title: \"...\", body: \"...\" }\n",
    "    })\n",
    "    .catch(error => {\n",
    "        console.error('Error:', error);\n",
    "    });"
   ]
  },
  {
   "cell_type": "markdown",
   "id": "d6e1fd12",
   "metadata": {},
   "source": [
    "\n",
    "\n",
    "---\n",
    "\n",
    "## Chaining Promises\n",
    "\n",
    "You can chain multiple `.then()` calls. Each `.then()` returns a new promise.\n",
    "\n"
   ]
  },
  {
   "cell_type": "code",
   "execution_count": null,
   "id": "a72c29d4",
   "metadata": {
    "vscode": {
     "languageId": "javascript"
    }
   },
   "outputs": [],
   "source": [
    "// Example 4: Chaining Promises\n",
    "myPromise\n",
    "    .then(result => {\n",
    "        console.log(result);\n",
    "        return \"Next step\";\n",
    "    })\n",
    "    .then(next => {\n",
    "        console.log(next); // \"Next step\"\n",
    "    })\n",
    "    .catch(error => {\n",
    "        console.error(error);\n",
    "    });"
   ]
  },
  {
   "cell_type": "markdown",
   "id": "234be044",
   "metadata": {},
   "source": [
    "\n",
    "\n",
    "---\n",
    "\n",
    "## Promise.all and Promise.race\n",
    "\n",
    "- **Promise.all**: Waits for all promises to resolve (or any to reject).\n",
    "- **Promise.race**: Resolves/rejects as soon as one promise settles.\n",
    "\n"
   ]
  },
  {
   "cell_type": "code",
   "execution_count": null,
   "id": "53d829ee",
   "metadata": {
    "vscode": {
     "languageId": "javascript"
    }
   },
   "outputs": [],
   "source": [
    "// Example 5: Promise.all\n",
    "const p1 = Promise.resolve(1);\n",
    "const p2 = Promise.resolve(2);\n",
    "const p3 = Promise.resolve(3);\n",
    "\n",
    "Promise.all([p1, p2, p3])\n",
    "    .then(values => {\n",
    "        console.log(values); // [1, 2, 3]\n",
    "    });\n",
    "\n",
    "// Example 6: Promise.race\n",
    "const slow = new Promise(resolve => setTimeout(() => resolve('slow'), 2000));\n",
    "const fast = new Promise(resolve => setTimeout(() => resolve('fast'), 1000));\n",
    "\n",
    "Promise.race([slow, fast])\n",
    "    .then(result => {\n",
    "        console.log(result); // \"fast\"\n",
    "    });"
   ]
  },
  {
   "cell_type": "markdown",
   "id": "ed917625",
   "metadata": {},
   "source": [
    "\n",
    "\n",
    "---\n",
    "\n",
    "## Error Handling\n",
    "\n",
    "Errors in any `.then()` are caught by the nearest `.catch()`.\n",
    "\n"
   ]
  },
  {
   "cell_type": "code",
   "execution_count": null,
   "id": "6c2f153d",
   "metadata": {
    "vscode": {
     "languageId": "javascript"
    }
   },
   "outputs": [],
   "source": [
    "// Example 7: Error Handling\n",
    "myPromise\n",
    "    .then(result => {\n",
    "        throw new Error(\"Something went wrong!\");\n",
    "    })\n",
    "    .catch(error => {\n",
    "        console.error(error.message); // \"Something went wrong!\"\n",
    "    });"
   ]
  },
  {
   "cell_type": "markdown",
   "id": "a173b1f4",
   "metadata": {},
   "source": [
    "\n",
    "\n",
    "---\n",
    "\n",
    "## Creating Your Own Async Function with Promises\n",
    "\n"
   ]
  },
  {
   "cell_type": "code",
   "execution_count": null,
   "id": "81409beb",
   "metadata": {
    "vscode": {
     "languageId": "javascript"
    }
   },
   "outputs": [],
   "source": [
    "// Example 8: Custom Async Function\n",
    "function asyncAdd(a, b) {\n",
    "    return new Promise((resolve, reject) => {\n",
    "        setTimeout(() => {\n",
    "            if (typeof a === 'number' && typeof b === 'number') {\n",
    "                resolve(a + b);\n",
    "            } else {\n",
    "                reject('Arguments must be numbers');\n",
    "            }\n",
    "        }, 500);\n",
    "    });\n",
    "}\n",
    "\n",
    "asyncAdd(2, 3)\n",
    "    .then(sum => console.log(sum)) // 5\n",
    "    .catch(err => console.error(err));"
   ]
  },
  {
   "cell_type": "markdown",
   "id": "35b6827a",
   "metadata": {},
   "source": [
    "\n",
    "\n",
    "---\n",
    "\n",
    "## Summary Table\n",
    "\n",
    "| Method         | Description                                  |\n",
    "|----------------|----------------------------------------------|\n",
    "| `.then()`      | Handles fulfillment                          |\n",
    "| `.catch()`     | Handles rejection                            |\n",
    "| `.finally()`   | Runs after promise settles (fulfilled/reject)|\n",
    "| `Promise.all()`| Waits for all promises                       |\n",
    "| `Promise.race()`| Waits for first promise to settle           |\n",
    "\n",
    "---\n",
    "\n",
    "## Why Use Promises?\n",
    "\n",
    "- **Cleaner code**: Avoids deeply nested callbacks.\n",
    "- **Error handling**: Centralized with `.catch()`.\n",
    "- **Composability**: Chain and combine async operations.\n",
    "\n",
    "---\n",
    "\n",
    "## Real-World Example: Loading Multiple Resources\n",
    "\n"
   ]
  },
  {
   "cell_type": "code",
   "execution_count": null,
   "id": "7b2b3c2b",
   "metadata": {
    "vscode": {
     "languageId": "javascript"
    }
   },
   "outputs": [],
   "source": [
    "// Example 9: Load multiple resources\n",
    "const urls = [\n",
    "    'https://jsonplaceholder.typicode.com/posts/1',\n",
    "    'https://jsonplaceholder.typicode.com/posts/2'\n",
    "];\n",
    "\n",
    "Promise.all(urls.map(url => fetch(url).then(res => res.json())))\n",
    "    .then(results => {\n",
    "        console.log(results); // Array of post objects\n",
    "    })\n",
    "    .catch(error => {\n",
    "        console.error('Failed to load:', error);\n",
    "    });"
   ]
  },
  {
   "cell_type": "markdown",
   "id": "e86025fa",
   "metadata": {},
   "source": [
    "\n",
    "\n",
    "---\n",
    "\n",
    "**In summary:**  \n",
    "Promises are a powerful tool for managing asynchronous operations in JavaScript, making code more readable, maintainable, and robust.\n",
    "\n",
    "If you want to see any of these examples in action or need further clarification, let me know!\n",
    "\n",
    "Similar code found with 1 license type"
   ]
  }
 ],
 "metadata": {
  "language_info": {
   "name": "python"
  }
 },
 "nbformat": 4,
 "nbformat_minor": 5
}
