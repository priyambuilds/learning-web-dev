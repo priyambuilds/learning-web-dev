{
 "cells": [
  {
   "cell_type": "markdown",
   "id": "1cad1a8a",
   "metadata": {},
   "source": [
    "# HTML IDs vs Classes: The Building Blocks of Web Styling\n",
    "\n",
    "## 🆔 IDs (`id=\"unique-name\"`)\n",
    "- **Unique Identifier**: Like a social security number for elements\n",
    "- **Single Use**: Only one element per page can have a specific ID\n",
    "- **Used For**:\n",
    "  - Unique element targeting in JavaScript\n",
    "  - Anchor links (`<a href=\"#section1\">`)\n",
    "  - Specific element styling\n",
    "\n",
    "```html\n",
    "<!-- Navigation menu item with unique ID -->\n",
    "<nav id=\"main-nav\">...</nav>\n",
    "\n",
    "<!-- Section anchor -->\n",
    "<section id=\"contact-form\">...</section>\n",
    "```\n",
    "\n",
    "## 🎨 Classes (`class=\"group-name\"`)\n",
    "- **Reusable Groups**: Like categories for elements\n",
    "- **Multiple Use**: Can be applied to many elements\n",
    "- **Combine Classes**: Elements can have multiple classes (space-separated)\n",
    "\n",
    "```html\n",
    "<!-- Multiple buttons sharing 'btn' class -->\n",
    "<button class=\"btn\">Save</button>\n",
    "<button class=\"btn\">Cancel</button>\n",
    "\n",
    "<!-- Element with multiple classes -->\n",
    "<div class=\"card featured-card dark-mode\">...</div>\n",
    "```\n",
    "\n",
    "## 🆚 Key Differences\n",
    "|                | ID                      | Class                 |\n",
    "|----------------|-------------------------|-----------------------|\n",
    "| Uniqueness     | One per page           | Multiple uses         |\n",
    "| CSS Selector   | `#id-name`             | `.class-name`         |\n",
    "| JavaScript     | `getElementById()`     | `getElementsByClassName()` |\n",
    "| Typical Use    | Unique elements        | Styling groups        |\n",
    "\n",
    "## 🎯 When to Use Which\n",
    "**Use ID when:**\n",
    "1. Element needs unique JavaScript handling\n",
    "2. Creating page anchors\n",
    "3. Overriding class styles for specific elements\n",
    "\n",
    "**Use Class when:**\n",
    "1. Styling multiple elements similarly\n",
    "2. Creating component patterns\n",
    "3. Applying multiple style rules"
   ]
  }
 ],
 "metadata": {
  "language_info": {
   "name": "python"
  }
 },
 "nbformat": 4,
 "nbformat_minor": 5
}
