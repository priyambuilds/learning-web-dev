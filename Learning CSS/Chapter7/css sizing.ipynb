{
 "cells": [
  {
   "cell_type": "markdown",
   "id": "0ee2c814",
   "metadata": {},
   "source": [
    "#CSS Size\n",
    "We've seen various units in CSS so far used for many different purposes; we did hit and trial to find the correct dimensions of that unit for our website.\n",
    "\n",
    "But now let's understand how units work in CSS.\n",
    "\n",
    "### Absolute Units\n",
    "- **cm** - centimetres (1 cm = 37.8 px)\n",
    "- **mm** - millimetres\n",
    "- **in** - inches (1 in = 96 px = 2.54cm)\n",
    "- **pt** - points (1pt = 1/72th of 1 in)\n",
    "- **pc** - picas (1pc = 1/6th of 1 in)\n",
    "- **px** - pixel (1px = 1/96th of 1 in)\n",
    "Generally, we only use pixels to set dimensions of an element.\n",
    "\n",
    "### Relative Units\n",
    "- **em** - Relative to the font size of the parent element. Eg: 5em means the size would be 5 times the current font size.\n",
    "- **ex** - Relative to X height of the existing font\n",
    "- **ch** - Relative to the width/radius of the character “0”.\n",
    "- **rem** - Relative to the font size of the root element.\n",
    "- **vw** - Relative to 1% of the width of the viewport. (Viewport is the area of the website visible to the user.)\n",
    "- **vh** - Relative to 1% of the height of the viewport\n",
    "- **%** - Relative to the parent element’s size.\n",
    "Apart from this, some of the other metrics used in CSS are:\n",
    "\n",
    "- **Opacity:** Ranges from 0 to 1\n",
    "- **RGB & RGBA values:** 0 to 255\n",
    "- **HSL & HSLA values:** 0 to 360"
   ]
  },
  {
   "cell_type": "markdown",
   "id": "9dcb03a7",
   "metadata": {},
   "source": []
  }
 ],
 "metadata": {
  "language_info": {
   "name": "python"
  }
 },
 "nbformat": 4,
 "nbformat_minor": 5
}
