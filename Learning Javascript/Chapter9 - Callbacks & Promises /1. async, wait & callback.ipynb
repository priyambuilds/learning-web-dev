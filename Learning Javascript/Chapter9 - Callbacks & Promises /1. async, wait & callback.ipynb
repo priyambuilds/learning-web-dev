{
 "cells": [
  {
   "cell_type": "markdown",
   "id": "9aab581c",
   "metadata": {},
   "source": [
    "Absolutely! Here’s a detailed explanation of **asynchronous programming**, **wait**, **callbacks**, and **callback hell** in JavaScript, with theory and practical code examples.\n",
    "\n",
    "---\n",
    "\n",
    "## 1. Asynchronous Programming in JavaScript\n",
    "\n",
    "**Asynchronous programming** allows JavaScript to perform long-running tasks (like network requests, timers, or file operations) without blocking the main thread. This means your app can remain responsive while waiting for these operations to complete.\n",
    "\n",
    "### Synchronous vs Asynchronous\n",
    "\n",
    "- **Synchronous**: Code runs line by line. Each operation waits for the previous one to finish.\n",
    "- **Asynchronous**: Some operations can start and finish later, allowing the rest of the code to keep running.\n",
    "\n",
    "#### Example: Synchronous Code\n",
    "\n"
   ]
  },
  {
   "cell_type": "code",
   "execution_count": null,
   "id": "d6062bd7",
   "metadata": {
    "vscode": {
     "languageId": "javascript"
    }
   },
   "outputs": [],
   "source": [
    "console.log(\"Start\");\n",
    "console.log(\"Middle\");\n",
    "console.log(\"End\");\n",
    "// Output:\n",
    "// Start\n",
    "// Middle\n",
    "// End"
   ]
  },
  {
   "cell_type": "markdown",
   "id": "69dcb779",
   "metadata": {},
   "source": [
    "\n",
    "\n",
    "#### Example: Asynchronous Code\n",
    "\n"
   ]
  },
  {
   "cell_type": "code",
   "execution_count": null,
   "id": "c935a281",
   "metadata": {
    "vscode": {
     "languageId": "javascript"
    }
   },
   "outputs": [],
   "source": [
    "console.log(\"Start\");\n",
    "setTimeout(() => {\n",
    "    console.log(\"Middle\");\n",
    "}, 1000);\n",
    "console.log(\"End\");\n",
    "// Output:\n",
    "// Start\n",
    "// End\n",
    "// Middle (after 1 second)"
   ]
  },
  {
   "cell_type": "markdown",
   "id": "083ad6c3",
   "metadata": {},
   "source": [
    "\n",
    "\n",
    "---\n",
    "\n",
    "## 2. The Concept of \"Wait\"\n",
    "\n",
    "JavaScript itself does **not** have a built-in `wait` or `sleep` function that blocks code execution (like in some other languages), because blocking the main thread would freeze the browser or Node.js process.\n",
    "\n",
    "Instead, you use **asynchronous functions** (like `setTimeout`, `setInterval`, or Promises) to schedule code to run later, while the rest of the code continues.\n",
    "\n",
    "---\n",
    "\n",
    "## 3. Callbacks\n",
    "\n",
    "A **callback** is a function passed as an argument to another function, to be \"called back\" later, usually after an asynchronous operation completes.\n",
    "\n",
    "### Practical Example: Using Callbacks\n",
    "\n"
   ]
  },
  {
   "cell_type": "code",
   "execution_count": null,
   "id": "aadecd5a",
   "metadata": {
    "vscode": {
     "languageId": "javascript"
    }
   },
   "outputs": [],
   "source": [
    "function fetchData(callback) {\n",
    "    setTimeout(() => {\n",
    "        const data = { user: \"Alice\" };\n",
    "        callback(data);\n",
    "    }, 1000);\n",
    "}\n",
    "\n",
    "fetchData(function(result) {\n",
    "    console.log(\"Received:\", result); // Received: { user: \"Alice\" }\n",
    "});"
   ]
  },
  {
   "cell_type": "markdown",
   "id": "781480dc",
   "metadata": {},
   "source": [
    "\n",
    "\n",
    "Here, `fetchData` simulates fetching data asynchronously and calls the `callback` function when done.\n",
    "\n",
    "---\n",
    "\n",
    "## 4. Callback Hell\n",
    "\n",
    "**Callback hell** (also known as the \"Pyramid of Doom\") happens when you nest multiple callbacks inside each other, making code hard to read and maintain.\n",
    "\n",
    "### Example: Callback Hell\n",
    "\n"
   ]
  },
  {
   "cell_type": "code",
   "execution_count": null,
   "id": "0852bb97",
   "metadata": {
    "vscode": {
     "languageId": "javascript"
    }
   },
   "outputs": [],
   "source": [
    "function step1(val, callback) {\n",
    "    setTimeout(() => {\n",
    "        callback(val + 1);\n",
    "    }, 1000);\n",
    "}\n",
    "\n",
    "function step2(val, callback) {\n",
    "    setTimeout(() => {\n",
    "        callback(val * 2);\n",
    "    }, 1000);\n",
    "}\n",
    "\n",
    "function step3(val, callback) {\n",
    "    setTimeout(() => {\n",
    "        callback(val - 3);\n",
    "    }, 1000);\n",
    "}\n",
    "\n",
    "// Nested callbacks (callback hell)\n",
    "step1(5, function(result1) {\n",
    "    step2(result1, function(result2) {\n",
    "        step3(result2, function(result3) {\n",
    "            console.log(\"Final result:\", result3);\n",
    "        });\n",
    "    });\n",
    "});\n",
    "// Output after 3 seconds: Final result: 9"
   ]
  },
  {
   "cell_type": "markdown",
   "id": "19fb01cd",
   "metadata": {},
   "source": [
    "\n",
    "\n",
    "Notice how the code becomes deeply nested and harder to follow as more asynchronous steps are added.\n",
    "\n",
    "---\n",
    "\n",
    "## 5. Problems with Callback Hell\n",
    "\n",
    "- **Readability**: Hard to read and understand.\n",
    "- **Maintainability**: Difficult to modify or debug.\n",
    "- **Error Handling**: Managing errors across multiple levels is complex.\n",
    "\n",
    "---\n",
    "\n",
    "## 6. Solutions to Callback Hell\n",
    "\n",
    "- **Modularize**: Break callbacks into named functions.\n",
    "- **Promises**: Use Promises to flatten the structure.\n",
    "- **Async/Await**: Use modern syntax for even cleaner code.\n",
    "\n",
    "### Example: Modularizing Callbacks\n",
    "\n"
   ]
  },
  {
   "cell_type": "code",
   "execution_count": null,
   "id": "8464ef2e",
   "metadata": {
    "vscode": {
     "languageId": "javascript"
    }
   },
   "outputs": [],
   "source": [
    "function step1(val, callback) {\n",
    "    setTimeout(() => callback(val + 1), 1000);\n",
    "}\n",
    "function step2(val, callback) {\n",
    "    setTimeout(() => callback(val * 2), 1000);\n",
    "}\n",
    "function step3(val, callback) {\n",
    "    setTimeout(() => callback(val - 3), 1000);\n",
    "}\n",
    "\n",
    "function handleStep3(result3) {\n",
    "    console.log(\"Final result:\", result3);\n",
    "}\n",
    "\n",
    "function handleStep2(result2) {\n",
    "    step3(result2, handleStep3);\n",
    "}\n",
    "\n",
    "function handleStep1(result1) {\n",
    "    step2(result1, handleStep2);\n",
    "}\n",
    "\n",
    "step1(5, handleStep1);"
   ]
  },
  {
   "cell_type": "markdown",
   "id": "3eee4de8",
   "metadata": {},
   "source": [
    "\n",
    "\n",
    "---\n",
    "\n",
    "## 7. Callback Hell vs Promises (Preview)\n",
    "\n",
    "Promises and async/await (covered in later chapters) were introduced to solve callback hell by making asynchronous code look more like synchronous code.\n",
    "\n",
    "---\n",
    "\n",
    "## Summary Table\n",
    "\n",
    "| Concept         | Description                                                                 |\n",
    "|-----------------|-----------------------------------------------------------------------------|\n",
    "| Asynchronous    | Code that doesn't block the main thread; continues running other tasks      |\n",
    "| Callback        | Function passed to another function to run after an async operation         |\n",
    "| Callback Hell   | Deeply nested callbacks, making code hard to read and maintain              |\n",
    "| Solution        | Use named functions, Promises, or async/await for cleaner async code        |\n",
    "\n",
    "---\n",
    "\n",
    "**In summary:**  \n",
    "- JavaScript uses asynchronous programming to stay responsive.\n",
    "- Callbacks are a core pattern for handling async operations.\n",
    "- Callback hell is a common problem with deeply nested callbacks.\n",
    "- Modern JavaScript uses Promises and async/await to solve these issues.\n",
    "\n",
    "If you want to see how to convert callback hell to Promises or async/await, let me know!"
   ]
  }
 ],
 "metadata": {
  "language_info": {
   "name": "python"
  }
 },
 "nbformat": 4,
 "nbformat_minor": 5
}
