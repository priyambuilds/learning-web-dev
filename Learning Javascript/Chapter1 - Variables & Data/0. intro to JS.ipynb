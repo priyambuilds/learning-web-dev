{
 "cells": [
  {
   "cell_type": "markdown",
   "id": "c9cf682d",
   "metadata": {},
   "source": [
    "# Introduction to JavaScript\n",
    "\n",
    "## Key Features\n",
    "\n",
    "- **Dynamically Typed:** Variables do not require a fixed type.\n",
    "- **Interpreted:** Runs directly in browsers or on servers (Node.js) without compilation.\n",
    "- **Event-Driven:** Handles user actions like clicks and keypresses.\n",
    "- **Prototype-Based:** Uses prototypes instead of classical inheritance.\n",
    "- **First-Class Functions:** Functions are treated as variables and can be passed as arguments.\n",
    "\n",
    "## Basic Syntax\n",
    "```javascript\n",
    "// Variable declaration\n",
    "let message = \"Hello, JavaScript!\";\n",
    "\n",
    "// Function definition\n",
    "function greet(name) {\n",
    "    return \"Hello, \" + name + \"!\";\n",
    "}\n",
    "\n",
    "// Calling a function\n",
    "console.log(greet(\"World\"));"
   ]
  },
  {
   "cell_type": "markdown",
   "id": "07ae689c",
   "metadata": {},
   "source": [
    "Certainly! Here’s a beginner-friendly introduction to **Node.js**:\n",
    "\n",
    "---\n",
    "\n",
    "## What is Node.js?\n",
    "\n",
    "**Node.js** is an open-source, cross-platform runtime environment that allows you to run JavaScript code outside of a web browser. Traditionally, JavaScript was only used in browsers to make web pages interactive. Node.js lets you use JavaScript to build programs that run directly on your computer or server.\n",
    "\n",
    "---\n",
    "\n",
    "## Key Concepts\n",
    "\n",
    "- **Runtime Environment:**  \n",
    "  Node.js provides everything needed to execute JavaScript code on your machine, not just in the browser.\n",
    "\n",
    "- **Built on Chrome’s V8 Engine:**  \n",
    "  Node.js uses the same JavaScript engine as Google Chrome, which makes it fast and efficient.\n",
    "\n",
    "- **Non-blocking & Event-driven:**  \n",
    "  Node.js is designed to handle many operations at once (like reading files, handling web requests) without waiting for each one to finish before starting the next. This makes it great for building fast, scalable applications.\n",
    "\n",
    "- **Single-threaded but Highly Scalable:**  \n",
    "  Node.js uses a single main thread, but it can handle thousands of connections at once using events and callbacks.\n",
    "\n",
    "---\n",
    "\n",
    "## What Can You Do with Node.js?\n",
    "\n",
    "- Build web servers and APIs\n",
    "- Create command-line tools\n",
    "- Work with files and databases\n",
    "- Build real-time applications (like chat apps)\n",
    "- Automate tasks\n",
    "\n",
    "---\n",
    "\n",
    "## Why Use Node.js?\n",
    "\n",
    "- **JavaScript Everywhere:** You can use the same language (JavaScript) for both client-side and server-side code.\n",
    "- **Large Ecosystem:** There are thousands of free packages (libraries) you can use via npm (Node Package Manager).\n",
    "- **Fast and Efficient:** Its non-blocking model makes it suitable for applications that need to handle lots of simultaneous connections.\n",
    "\n",
    "---\n",
    "\n",
    "**In summary:**  \n",
    "Node.js lets you use JavaScript to build powerful programs that run on your computer or server, not just in the browser. It’s fast, efficient, and widely used for modern web development.\n",
    "\n",
    "Let me know when you’re ready for practical examples!"
   ]
  },
  {
   "cell_type": "markdown",
   "id": "6c1d7c1f",
   "metadata": {},
   "source": [
    "Here’s your practical Node.js introduction in Markdown, ready to paste into your Jupyter notebook:\n",
    "\n",
    "---\n",
    "\n",
    "## Practical Node.js Examples\n",
    "\n",
    "### 1. Running a Simple JavaScript File with Node.js\n",
    "\n",
    "**Step 1:** Create a file named `hello.js` with this content:\n",
    "\n"
   ]
  },
  {
   "cell_type": "code",
   "execution_count": null,
   "id": "8c89f6db",
   "metadata": {
    "polyglot_notebook": {
     "kernelName": "csharp"
    }
   },
   "outputs": [],
   "source": [
    "// hello.js\n",
    "console.log(\"Hello from Node.js!\");"
   ]
  },
  {
   "cell_type": "markdown",
   "id": "bfd8824f",
   "metadata": {},
   "source": [
    "\n",
    "\n",
    "**Step 2:** Run it in your terminal:\n",
    "\n"
   ]
  },
  {
   "cell_type": "code",
   "execution_count": null,
   "id": "145ff859",
   "metadata": {
    "polyglot_notebook": {
     "kernelName": "csharp"
    }
   },
   "outputs": [],
   "source": [
    "node hello.js"
   ]
  },
  {
   "cell_type": "markdown",
   "id": "acf443e1",
   "metadata": {},
   "source": [
    "\n",
    "\n",
    "**Explanation:**  \n",
    "This prints a message to the terminal. Unlike in the browser, `console.log` here outputs to your terminal window.\n",
    "\n",
    "---\n",
    "\n",
    "### 2. Creating a Simple Web Server\n",
    "\n",
    "**Step 1:** Create a file named `server.js`:\n",
    "\n"
   ]
  },
  {
   "cell_type": "code",
   "execution_count": null,
   "id": "111497c9",
   "metadata": {
    "polyglot_notebook": {
     "kernelName": "csharp"
    }
   },
   "outputs": [],
   "source": [
    "// server.js\n",
    "const http = require('http'); // Import the built-in HTTP module\n",
    "\n",
    "const server = http.createServer((req, res) => {\n",
    "    res.writeHead(200, {'Content-Type': 'text/plain'});\n",
    "    res.end('Hello, this is a Node.js server!');\n",
    "});\n",
    "\n",
    "server.listen(3000, () => {\n",
    "    console.log('Server running at http://localhost:3000/');\n",
    "});"
   ]
  },
  {
   "cell_type": "markdown",
   "id": "95176646",
   "metadata": {},
   "source": [
    "\n",
    "\n",
    "**Step 2:** Run it:\n",
    "\n"
   ]
  },
  {
   "cell_type": "code",
   "execution_count": null,
   "id": "ee70232c",
   "metadata": {
    "polyglot_notebook": {
     "kernelName": "csharp"
    }
   },
   "outputs": [],
   "source": [
    "node server.js"
   ]
  },
  {
   "cell_type": "markdown",
   "id": "f01dd68c",
   "metadata": {},
   "source": [
    "\n",
    "\n",
    "**Step 3:** Open your browser and go to [http://localhost:3000](http://localhost:3000)\n",
    "\n",
    "**Explanation:**  \n",
    "- `require('http')` loads Node’s built-in HTTP module.\n",
    "- `http.createServer` creates a server that responds with a message.\n",
    "- `server.listen(3000)` starts the server on port 3000.\n",
    "- When you visit the URL, you’ll see the message from your server.\n",
    "\n",
    "---\n",
    "\n",
    "### 3. Reading a File Asynchronously\n",
    "\n",
    "**Step 1:** Create a file named `readFile.js` and another file named `example.txt` with some text.\n",
    "\n",
    "**example.txt**\n"
   ]
  },
  {
   "cell_type": "code",
   "execution_count": null,
   "id": "30b4bb29",
   "metadata": {
    "polyglot_notebook": {
     "kernelName": "csharp"
    }
   },
   "outputs": [],
   "source": [
    "This is a sample file."
   ]
  },
  {
   "cell_type": "markdown",
   "id": "5961731d",
   "metadata": {},
   "source": [
    "\n",
    "\n",
    "**readFile.js**\n"
   ]
  },
  {
   "cell_type": "code",
   "execution_count": null,
   "id": "7c774312",
   "metadata": {
    "polyglot_notebook": {
     "kernelName": "csharp"
    }
   },
   "outputs": [],
   "source": [
    "// readFile.js\n",
    "const fs = require('fs'); // Import the file system module\n",
    "\n",
    "fs.readFile('example.txt', 'utf8', (err, data) => {\n",
    "    if (err) {\n",
    "        console.error(err);\n",
    "        return;\n",
    "    }\n",
    "    console.log('File contents:', data);\n",
    "});"
   ]
  },
  {
   "cell_type": "markdown",
   "id": "dbe8f137",
   "metadata": {},
   "source": [
    "\n",
    "\n",
    "**Step 2:** Run it:\n",
    "\n"
   ]
  },
  {
   "cell_type": "code",
   "execution_count": null,
   "id": "ea24e581",
   "metadata": {
    "polyglot_notebook": {
     "kernelName": "csharp"
    }
   },
   "outputs": [],
   "source": [
    "node readFile.js"
   ]
  },
  {
   "cell_type": "markdown",
   "id": "5ac00f1a",
   "metadata": {},
   "source": [
    "\n",
    "\n",
    "**Explanation:**  \n",
    "- `fs.readFile` reads the file asynchronously.\n",
    "- The callback function runs when the file is read, printing its contents.\n",
    "- If there’s an error (like the file doesn’t exist), it prints the error.\n",
    "\n",
    "---\n",
    "\n",
    "### 4. Using npm Packages\n",
    "\n",
    "**Step 1:** Initialize a new project:\n",
    "\n"
   ]
  },
  {
   "cell_type": "code",
   "execution_count": null,
   "id": "613d3fd9",
   "metadata": {
    "polyglot_notebook": {
     "kernelName": "csharp"
    }
   },
   "outputs": [],
   "source": [
    "npm init -y"
   ]
  },
  {
   "cell_type": "markdown",
   "id": "c2fc9bcf",
   "metadata": {},
   "source": [
    "\n",
    "\n",
    "**Step 2:** Install a package, for example, `lodash`:\n",
    "\n"
   ]
  },
  {
   "cell_type": "code",
   "execution_count": null,
   "id": "81d7a6ca",
   "metadata": {
    "polyglot_notebook": {
     "kernelName": "csharp"
    }
   },
   "outputs": [],
   "source": [
    "npm install lodash"
   ]
  },
  {
   "cell_type": "markdown",
   "id": "cce04065",
   "metadata": {},
   "source": [
    "\n",
    "\n",
    "**Step 3:** Use it in a file:\n",
    "\n"
   ]
  },
  {
   "cell_type": "code",
   "execution_count": null,
   "id": "94c0694a",
   "metadata": {
    "polyglot_notebook": {
     "kernelName": "csharp"
    }
   },
   "outputs": [],
   "source": [
    "// useLodash.js\n",
    "const _ = require('lodash');\n",
    "\n",
    "const arr = [1, 2, 3, 4];\n",
    "console.log('Reversed:', _.reverse(arr));"
   ]
  },
  {
   "cell_type": "markdown",
   "id": "3b593013",
   "metadata": {},
   "source": [
    "\n",
    "\n",
    "**Step 4:** Run it:\n",
    "\n"
   ]
  },
  {
   "cell_type": "code",
   "execution_count": null,
   "id": "58c24c2c",
   "metadata": {
    "polyglot_notebook": {
     "kernelName": "csharp"
    }
   },
   "outputs": [],
   "source": [
    "node useLodash.js"
   ]
  },
  {
   "cell_type": "markdown",
   "id": "56d1e9aa",
   "metadata": {},
   "source": [
    "\n",
    "\n",
    "**Explanation:**  \n",
    "- `npm` is Node’s package manager.\n",
    "- You can install and use thousands of libraries to extend your app’s functionality.\n",
    "\n",
    "---\n",
    "\n",
    "These examples show how Node.js lets you run JavaScript outside the browser, create servers, work with files, and use external libraries.\n",
    "\n",
    "Similar code found with 1 license type"
   ]
  }
 ],
 "metadata": {
  "kernelspec": {
   "display_name": ".NET (C#)",
   "language": "C#",
   "name": ".net-csharp"
  },
  "language_info": {
   "name": "polyglot-notebook"
  },
  "polyglot_notebook": {
   "kernelInfo": {
    "defaultKernelName": "csharp",
    "items": [
     {
      "aliases": [],
      "name": "csharp"
     }
    ]
   }
  }
 },
 "nbformat": 4,
 "nbformat_minor": 5
}
