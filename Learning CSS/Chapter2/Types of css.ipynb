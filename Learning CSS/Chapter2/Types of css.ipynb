{
 "cells": [
  {
   "cell_type": "markdown",
   "id": "de51683f",
   "metadata": {},
   "source": [
    "# CSS Implementation Methods\n",
    "\n",
    "## 1. Inline CSS\n",
    "<p style=\"color: blue; font-size: 16px;\">Styled text</p>\n",
    "\n",
    "\n",
    "Pros: Quick implementation, element-specific\n",
    "Cons: Hard to maintain, no reusability\n",
    "Use when: Quick testing or overriding other styles\n",
    "## 2. Internal/Embedded CSS\n",
    "<head>\n",
    "  <style>\n",
    "    p {\n",
    "      color: blue;\n",
    "      font-size: 16px;\n",
    "    }\n",
    "  </style>\n",
    "</head>\n",
    "\n",
    "Pros: Page-specific styling, maintains HTML/CSS separation\n",
    "Cons: Not reusable across pages\n",
    "Use when: Single-page styling\n",
    "## 3. External CSS\n",
    "<head>\n",
    "  <link rel=\"stylesheet\" href=\"styles.css\">\n",
    "</head>\n",
    "\n",
    "styles.css:\n",
    "\n",
    "p {\n",
    "  color: blue;\n",
    "  font-size: 16px;\n",
    "}\n",
    "\n",
    "css\n",
    "\n",
    "Pros: Reusable, maintainable, cacheable\n",
    "Cons: Extra HTTP request\n",
    "Use when: Production websites\n",
    "\n",
    "\n",
    "### Comparison Table\n",
    "| Method     | Reusability | Maintainability | Performance |\n",
    "|------------|-------------|-----------------|-------------|\n",
    "| Inline     | ❌          | ❌              | ⚡          |\n",
    "| Internal   | ❌          | ✅              | ⚡          |\n",
    "| External   | ✅          | ✅              | 🚀          |"
   ]
  }
 ],
 "metadata": {
  "language_info": {
   "name": "python"
  }
 },
 "nbformat": 4,
 "nbformat_minor": 5
}
